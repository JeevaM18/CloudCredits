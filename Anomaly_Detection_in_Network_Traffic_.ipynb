{
  "nbformat": 4,
  "nbformat_minor": 0,
  "metadata": {
    "colab": {
      "provenance": []
    },
    "kernelspec": {
      "name": "python3",
      "display_name": "Python 3"
    },
    "language_info": {
      "name": "python"
    }
  },
  "cells": [
    {
      "cell_type": "code",
      "execution_count": 8,
      "metadata": {
        "id": "8lzjZ-3RfltD"
      },
      "outputs": [],
      "source": [
        "import pandas as pd\n",
        "import numpy as np\n",
        "from sklearn.preprocessing import MinMaxScaler\n",
        "from sklearn.metrics import confusion_matrix, classification_report\n",
        "import matplotlib.pyplot as plt\n",
        "import seaborn as sns\n",
        "from tensorflow.keras.models import Model\n",
        "from tensorflow.keras.layers import Input, Dense\n",
        "from tensorflow.keras.optimizers import Adam\n",
        "\n",
        "file_path = \"/kaggle/input/network-intrusion-dataset/Friday-WorkingHours-Afternoon-PortScan.pcap_ISCX.csv\"\n",
        "df = pd.read_csv(file_path)\n",
        "\n",
        "possible_labels = ['Label', 'label', ' Label', 'attack', 'Attack', 'Attack_type']\n",
        "label_col = None\n",
        "for col in df.columns:\n",
        "    if col.strip() in possible_labels:\n",
        "        label_col = col\n",
        "        break\n",
        "\n",
        "if not label_col:\n",
        "    raise ValueError(\"No suitable label column found in the dataset!\")\n"
      ]
    },
    {
      "cell_type": "code",
      "source": [
        "df = df.rename(columns={label_col: 'Label'})\n",
        "print(f\"Detected and renamed label column: '{label_col}'\")\n",
        "\n",
        "df['Label'] = df['Label'].astype(str).str.strip().str.upper()\n",
        "print(f\"Unique values in the original label column after strip and upper: {df['Label'].unique()}\") # Add this line\n",
        "\n",
        "df['Label'] = df['Label'].apply(lambda x: 0 if x == 'BENIGN' else 1)\n",
        "print(f\"Value counts for the converted 'Label' column (0 for BENIGN, 1 otherwise):\\n{df['Label'].value_counts()}\") # Add this line\n",
        "\n",
        "df_numeric = df.select_dtypes(include=[np.number])\n",
        "\n",
        "if 'Label' not in df_numeric.columns:\n",
        "    df_numeric['Label'] = df['Label']\n",
        "\n",
        "df_numeric = df_numeric.replace([np.inf, -np.inf], np.nan)\n",
        "df_numeric = df_numeric.fillna(0)\n",
        "\n",
        "from sklearn.preprocessing import MinMaxScaler\n",
        "scaler = MinMaxScaler()\n",
        "X_scaled = scaler.fit_transform(df_numeric.drop('Label', axis=1))\n",
        "\n",
        "X_train = X_scaled[df_numeric['Label'] == 0]\n",
        "X_test = X_scaled\n",
        "\n",
        "print(f\"Shape of X_train after filtering for BENIGN samples: {X_train.shape}\") # Add this line\n",
        "\n",
        "from tensorflow.keras.models import Model\n",
        "from tensorflow.keras.layers import Input, Dense\n",
        "from tensorflow.keras.optimizers import Adam\n",
        "\n",
        "input_dim = X_scaled.shape[1]\n",
        "encoding_dim = 16\n",
        "\n",
        "input_layer = Input(shape=(input_dim,))\n",
        "encoded = Dense(32, activation='relu')(input_layer)\n",
        "encoded = Dense(encoding_dim, activation='relu')(encoded)\n",
        "decoded = Dense(32, activation='relu')(encoded)\n",
        "output_layer = Dense(input_dim, activation='sigmoid')(decoded)\n",
        "\n",
        "autoencoder = Model(inputs=input_layer, outputs=output_layer)\n",
        "autoencoder.compile(optimizer=Adam(learning_rate=0.001), loss='mse')"
      ],
      "metadata": {
        "colab": {
          "base_uri": "https://localhost:8080/"
        },
        "id": "3O_f6nQKiaH2",
        "outputId": "a9ecb1ff-1a97-44e8-adc1-cc05bf7ac50e"
      },
      "execution_count": 18,
      "outputs": [
        {
          "output_type": "stream",
          "name": "stdout",
          "text": [
            "Detected and renamed label column: 'Label'\n",
            "Unique values in the original label column after strip and upper: ['1']\n",
            "Value counts for the converted 'Label' column (0 for BENIGN, 1 otherwise):\n",
            "Label\n",
            "1    286467\n",
            "Name: count, dtype: int64\n",
            "Shape of X_train after filtering for BENIGN samples: (0, 78)\n"
          ]
        }
      ]
    },
    {
      "cell_type": "code",
      "source": [
        "autoencoder.fit(X_test, X_test,\n",
        "                epochs=20,\n",
        "                batch_size=256,\n",
        "                shuffle=True)\n",
        "\n",
        "reconstructions = autoencoder.predict(X_test)\n",
        "reconstruction_error = np.mean(np.power(X_test - reconstructions, 2), axis=1)\n",
        "\n",
        "train_error = np.mean(np.power(X_test - reconstructions, 2), axis=1)\n",
        "threshold = train_error.mean() + 3 * train_error.std()\n",
        "\n",
        "predictions = [1 if err > threshold else 0 for err in reconstruction_error]\n"
      ],
      "metadata": {
        "colab": {
          "base_uri": "https://localhost:8080/"
        },
        "id": "Z1EC9-uJimgM",
        "outputId": "af3e44a4-8077-4bf1-9cac-849d3939eca4"
      },
      "execution_count": 19,
      "outputs": [
        {
          "output_type": "stream",
          "name": "stdout",
          "text": [
            "Epoch 1/20\n",
            "\u001b[1m1120/1120\u001b[0m \u001b[32m━━━━━━━━━━━━━━━━━━━━\u001b[0m\u001b[37m\u001b[0m \u001b[1m3s\u001b[0m 2ms/step - loss: 0.0467\n",
            "Epoch 2/20\n",
            "\u001b[1m1120/1120\u001b[0m \u001b[32m━━━━━━━━━━━━━━━━━━━━\u001b[0m\u001b[37m\u001b[0m \u001b[1m3s\u001b[0m 3ms/step - loss: 6.6471e-04\n",
            "Epoch 3/20\n",
            "\u001b[1m1120/1120\u001b[0m \u001b[32m━━━━━━━━━━━━━━━━━━━━\u001b[0m\u001b[37m\u001b[0m \u001b[1m5s\u001b[0m 2ms/step - loss: 3.6112e-04\n",
            "Epoch 4/20\n",
            "\u001b[1m1120/1120\u001b[0m \u001b[32m━━━━━━━━━━━━━━━━━━━━\u001b[0m\u001b[37m\u001b[0m \u001b[1m5s\u001b[0m 2ms/step - loss: 2.5901e-04\n",
            "Epoch 5/20\n",
            "\u001b[1m1120/1120\u001b[0m \u001b[32m━━━━━━━━━━━━━━━━━━━━\u001b[0m\u001b[37m\u001b[0m \u001b[1m5s\u001b[0m 4ms/step - loss: 2.2151e-04\n",
            "Epoch 6/20\n",
            "\u001b[1m1120/1120\u001b[0m \u001b[32m━━━━━━━━━━━━━━━━━━━━\u001b[0m\u001b[37m\u001b[0m \u001b[1m4s\u001b[0m 3ms/step - loss: 1.8853e-04\n",
            "Epoch 7/20\n",
            "\u001b[1m1120/1120\u001b[0m \u001b[32m━━━━━━━━━━━━━━━━━━━━\u001b[0m\u001b[37m\u001b[0m \u001b[1m3s\u001b[0m 3ms/step - loss: 1.7628e-04\n",
            "Epoch 8/20\n",
            "\u001b[1m1120/1120\u001b[0m \u001b[32m━━━━━━━━━━━━━━━━━━━━\u001b[0m\u001b[37m\u001b[0m \u001b[1m3s\u001b[0m 2ms/step - loss: 1.6960e-04\n",
            "Epoch 9/20\n",
            "\u001b[1m1120/1120\u001b[0m \u001b[32m━━━━━━━━━━━━━━━━━━━━\u001b[0m\u001b[37m\u001b[0m \u001b[1m5s\u001b[0m 2ms/step - loss: 1.5692e-04\n",
            "Epoch 10/20\n",
            "\u001b[1m1120/1120\u001b[0m \u001b[32m━━━━━━━━━━━━━━━━━━━━\u001b[0m\u001b[37m\u001b[0m \u001b[1m3s\u001b[0m 2ms/step - loss: 1.0969e-04\n",
            "Epoch 11/20\n",
            "\u001b[1m1120/1120\u001b[0m \u001b[32m━━━━━━━━━━━━━━━━━━━━\u001b[0m\u001b[37m\u001b[0m \u001b[1m2s\u001b[0m 2ms/step - loss: 5.9345e-05\n",
            "Epoch 12/20\n",
            "\u001b[1m1120/1120\u001b[0m \u001b[32m━━━━━━━━━━━━━━━━━━━━\u001b[0m\u001b[37m\u001b[0m \u001b[1m3s\u001b[0m 3ms/step - loss: 5.5589e-05\n",
            "Epoch 13/20\n",
            "\u001b[1m1120/1120\u001b[0m \u001b[32m━━━━━━━━━━━━━━━━━━━━\u001b[0m\u001b[37m\u001b[0m \u001b[1m3s\u001b[0m 2ms/step - loss: 5.2966e-05\n",
            "Epoch 14/20\n",
            "\u001b[1m1120/1120\u001b[0m \u001b[32m━━━━━━━━━━━━━━━━━━━━\u001b[0m\u001b[37m\u001b[0m \u001b[1m2s\u001b[0m 2ms/step - loss: 4.9441e-05\n",
            "Epoch 15/20\n",
            "\u001b[1m1120/1120\u001b[0m \u001b[32m━━━━━━━━━━━━━━━━━━━━\u001b[0m\u001b[37m\u001b[0m \u001b[1m2s\u001b[0m 2ms/step - loss: 4.6906e-05\n",
            "Epoch 16/20\n",
            "\u001b[1m1120/1120\u001b[0m \u001b[32m━━━━━━━━━━━━━━━━━━━━\u001b[0m\u001b[37m\u001b[0m \u001b[1m2s\u001b[0m 2ms/step - loss: 4.7767e-05\n",
            "Epoch 17/20\n",
            "\u001b[1m1120/1120\u001b[0m \u001b[32m━━━━━━━━━━━━━━━━━━━━\u001b[0m\u001b[37m\u001b[0m \u001b[1m3s\u001b[0m 3ms/step - loss: 4.3620e-05\n",
            "Epoch 18/20\n",
            "\u001b[1m1120/1120\u001b[0m \u001b[32m━━━━━━━━━━━━━━━━━━━━\u001b[0m\u001b[37m\u001b[0m \u001b[1m5s\u001b[0m 2ms/step - loss: 4.2760e-05\n",
            "Epoch 19/20\n",
            "\u001b[1m1120/1120\u001b[0m \u001b[32m━━━━━━━━━━━━━━━━━━━━\u001b[0m\u001b[37m\u001b[0m \u001b[1m2s\u001b[0m 2ms/step - loss: 4.1531e-05\n",
            "Epoch 20/20\n",
            "\u001b[1m1120/1120\u001b[0m \u001b[32m━━━━━━━━━━━━━━━━━━━━\u001b[0m\u001b[37m\u001b[0m \u001b[1m3s\u001b[0m 2ms/step - loss: 4.1217e-05\n",
            "\u001b[1m8953/8953\u001b[0m \u001b[32m━━━━━━━━━━━━━━━━━━━━\u001b[0m\u001b[37m\u001b[0m \u001b[1m11s\u001b[0m 1ms/step\n"
          ]
        }
      ]
    },
    {
      "cell_type": "code",
      "source": [
        "y_test = df_numeric['Label'].values\n",
        "\n",
        "print(\"Confusion Matrix:\")\n",
        "print(confusion_matrix(y_test, predictions))\n",
        "print(\"\\nClassification Report:\")\n",
        "print(classification_report(y_test, predictions))"
      ],
      "metadata": {
        "colab": {
          "base_uri": "https://localhost:8080/"
        },
        "id": "UtcY5o_ziopm",
        "outputId": "7ec98047-1b42-41da-bb63-664c7f7ab297"
      },
      "execution_count": 20,
      "outputs": [
        {
          "output_type": "stream",
          "name": "stdout",
          "text": [
            "Confusion Matrix:\n",
            "[[     0      0]\n",
            " [285295   1172]]\n",
            "\n",
            "Classification Report:\n",
            "              precision    recall  f1-score   support\n",
            "\n",
            "           0       0.00      0.00      0.00         0\n",
            "           1       1.00      0.00      0.01    286467\n",
            "\n",
            "    accuracy                           0.00    286467\n",
            "   macro avg       0.50      0.00      0.00    286467\n",
            "weighted avg       1.00      0.00      0.01    286467\n",
            "\n"
          ]
        },
        {
          "output_type": "stream",
          "name": "stderr",
          "text": [
            "/usr/local/lib/python3.11/dist-packages/sklearn/metrics/_classification.py:1565: UndefinedMetricWarning: Recall is ill-defined and being set to 0.0 in labels with no true samples. Use `zero_division` parameter to control this behavior.\n",
            "  _warn_prf(average, modifier, f\"{metric.capitalize()} is\", len(result))\n",
            "/usr/local/lib/python3.11/dist-packages/sklearn/metrics/_classification.py:1565: UndefinedMetricWarning: Recall is ill-defined and being set to 0.0 in labels with no true samples. Use `zero_division` parameter to control this behavior.\n",
            "  _warn_prf(average, modifier, f\"{metric.capitalize()} is\", len(result))\n",
            "/usr/local/lib/python3.11/dist-packages/sklearn/metrics/_classification.py:1565: UndefinedMetricWarning: Recall is ill-defined and being set to 0.0 in labels with no true samples. Use `zero_division` parameter to control this behavior.\n",
            "  _warn_prf(average, modifier, f\"{metric.capitalize()} is\", len(result))\n"
          ]
        }
      ]
    }
  ]
}